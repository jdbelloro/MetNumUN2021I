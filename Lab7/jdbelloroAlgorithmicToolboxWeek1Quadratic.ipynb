{
  "nbformat": 4,
  "nbformat_minor": 0,
  "metadata": {
    "colab": {
      "name": "jdbelloroAlgorithmicToolboxWeek1Quadratic.ipynb",
      "provenance": [],
      "collapsed_sections": []
    },
    "kernelspec": {
      "name": "python3",
      "display_name": "Python 3"
    },
    "language_info": {
      "name": "python"
    }
  },
  "cells": [
    {
      "cell_type": "markdown",
      "metadata": {
        "id": "aQU9MJqccYkw"
      },
      "source": [
        "## Solve a quadratic equation, $x^2 + b x + c = 0$.\n",
        "\n",
        "\n",
        "Write a function which receives $b$ and $c$, the coefficients of a monic quadratic polynomial, $x^2 + b x + c$, and returns the pair of its roots. Your function should always return two values, even if quadratic has a double root.\n",
        "\n",
        "For example, given a quadratic $x^2 - 2x + 1$, your function should return a pair of $(1, 1)$. Of course, in floating point, your answers may differ from an exact unity.\n",
        "\n",
        "Your function also must correctly handle complex roots (to this end, you might need the `cmath` module from the standard library).\n"
      ]
    },
    {
      "cell_type": "code",
      "metadata": {
        "id": "zsnV1OkuOYit"
      },
      "source": [
        "import math\n",
        "import cmath\n",
        "\n",
        "def solve_quad(b, c):\n",
        "    \"\"\"Solve a quadratic equation, x**2 + bx + c = 0.\n",
        "    \n",
        "    Parameters\n",
        "    ----------\n",
        "    b, c : float\n",
        "       Coefficients\n",
        "       \n",
        "    Returns\n",
        "    -------\n",
        "    x1, x2 : float or complex\n",
        "       Roots.\n",
        "    \"\"\"\n",
        "    d=((math.pow(b,2))-(4*c))\n",
        "    if (d == (math.pow(b,2))):\n",
        "      y1 = -b\n",
        "      y2 = c/y1\n",
        "    else: \n",
        "      y1=(-b+cmath.sqrt(d))/(2)\n",
        "      y2=(-b-cmath.sqrt(d))/(2)\n",
        "    return y1,y2"
      ],
      "execution_count": 1,
      "outputs": []
    },
    {
      "cell_type": "code",
      "metadata": {
        "colab": {
          "base_uri": "https://localhost:8080/"
        },
        "id": "mP9L9CX0fgx3",
        "outputId": "51a9d569-27d7-4112-a3fa-f311045a13f5"
      },
      "source": [
        "solve_quad(-3, 2)\n",
        "solve_quad(2, 1)\n",
        "solve_quad(5, 6)\n",
        "solve_quad(7, 4)\n",
        "solve_quad(7.4, 4.2)\n",
        "solve_quad(-2, 5)\n",
        "solve_quad(-1.0, 14.0)\n",
        "solve_quad(7, 3)"
      ],
      "execution_count": 2,
      "outputs": [
        {
          "output_type": "execute_result",
          "data": {
            "text/plain": [
              "((-0.45861873485089033+0j), (-6.541381265149109+0j))"
            ]
          },
          "metadata": {
            "tags": []
          },
          "execution_count": 2
        }
      ]
    },
    {
      "cell_type": "markdown",
      "metadata": {
        "id": "L3cYFtYMOe-_"
      },
      "source": [
        "Test the your function on several examples against a calculation by hand. Once you're sure that your function works, try these five test cases below.\n",
        "\n",
        "Note that the last two test cases are special: they test whether your function handles extreme cases where a too simple approach is prone to a catastrophic cancellation. Make sure your function passes all five tests.\n",
        "\n",
        "This exercise is graded, each test case contributes a 20% of the grade."
      ]
    },
    {
      "cell_type": "code",
      "metadata": {
        "id": "-ZudyiF4Ofng"
      },
      "source": [
        "from numpy import allclose"
      ],
      "execution_count": 3,
      "outputs": []
    },
    {
      "cell_type": "code",
      "metadata": {
        "id": "R_3wT1_EOjbW"
      },
      "source": [
        "variants = [{'b': 4.0, 'c': 3.0},\n",
        "            {'b': 2.0, 'c': 1.0},\n",
        "            {'b': 0.5, 'c': 4.0},\n",
        "            {'b': 1e10, 'c': 3.0},\n",
        "            {'b': -1e10, 'c': 4.0},]"
      ],
      "execution_count": 4,
      "outputs": []
    },
    {
      "cell_type": "code",
      "metadata": {
        "colab": {
          "base_uri": "https://localhost:8080/"
        },
        "id": "2sFA-Hd4W-F3",
        "outputId": "d5d3f0a1-416c-45f1-b118-084f568eba71"
      },
      "source": [
        "for var in variants:\n",
        "    x1, x2 = solve_quad(**var)\n",
        "    print(allclose(x1*x2, var['c']))"
      ],
      "execution_count": 5,
      "outputs": [
        {
          "output_type": "stream",
          "text": [
            "True\n",
            "True\n",
            "True\n",
            "True\n",
            "True\n"
          ],
          "name": "stdout"
        }
      ]
    }
  ]
}